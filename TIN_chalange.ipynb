{
  "nbformat": 4,
  "nbformat_minor": 0,
  "metadata": {
    "colab": {
      "name": "TIN_chalange.ipynb",
      "provenance": [],
      "include_colab_link": true
    },
    "kernelspec": {
      "name": "python3",
      "display_name": "Python 3"
    }
  },
  "cells": [
    {
      "cell_type": "markdown",
      "metadata": {
        "id": "view-in-github",
        "colab_type": "text"
      },
      "source": [
        "<a href=\"https://colab.research.google.com/github/atmaniali/AllView1/blob/master/TIN_chalange.ipynb\" target=\"_parent\"><img src=\"https://colab.research.google.com/assets/colab-badge.svg\" alt=\"Open In Colab\"/></a>"
      ]
    },
    {
      "cell_type": "code",
      "metadata": {
        "id": "UF8ZFm2bmbSn",
        "colab": {
          "base_uri": "https://localhost:8080/",
          "height": 1000
        },
        "outputId": "367ee330-5ca8-4da0-e42f-7f009a46997f"
      },
      "source": [
        "import cv2\r\n",
        "import matplotlib.pyplot as plt\r\n",
        "from PIL import Image\r\n",
        "import numpy as np\r\n",
        "#from google.colab.patches import cv2_imshow\r\n",
        "class Point(object):\r\n",
        "    def __init__(self,x,y):\r\n",
        "        self.x = x\r\n",
        "        self.y = y\r\n",
        "    def getX(self):\r\n",
        "        return self.x\r\n",
        "    def getY(self):\r\n",
        "        return self.y\r\n",
        "def gDiff(img,PointC,tmpPoint):\r\n",
        "    return abs(int(img[PointC.x,PointC.y]) - int(img[tmpPoint.x,tmpPoint.y]))\r\n",
        "def selectConnects(p):\r\n",
        "    if p != 0:\r\n",
        "        connects = [Point(-1, -1), Point(0, -1), Point(1, -1), Point(1, 0), Point(1, 1), \\\r\n",
        "                    Point(0, 1), Point(-1, 1), Point(-1, 0)]\r\n",
        "    else:\r\n",
        "        connects = [ Point(0, -1),  Point(1, 0),Point(0, 1), Point(-1, 0)]\r\n",
        "    return connects\r\n",
        "\r\n",
        "\r\n",
        "def regionGrow(img,seeds,thresh,p = 1):\r\n",
        "    height, weight = img.shape\r\n",
        "    seedMark = np.zeros(img.shape)\r\n",
        "    seedList = []\r\n",
        "    for seed in seeds:\r\n",
        "        seedList.append(seed)\r\n",
        "    label = 1\r\n",
        "    connects = selectConnects(p)\r\n",
        "    while(len(seedList)>0):\r\n",
        "        PointC = seedList.pop(0)\r\n",
        "\r\n",
        "        seedMark[PointC.x,PointC.y] = label\r\n",
        "        for i in range(8):\r\n",
        "            Xt = PointC.x + connects[i].x\r\n",
        "            YT = PointC.y + connects[i].y\r\n",
        "            if Xt < 0 or YT < 0 or Xt >= height or YT >= weight:\r\n",
        "                continue\r\n",
        "            Diff = gDiff(img,PointC,Point(Xt,YT))\r\n",
        "            if Diff < thresh and seedMark[Xt,YT] == 0:\r\n",
        "                seedMark[Xt,YT] = label\r\n",
        "                seedList.append(Point(Xt,YT))\r\n",
        "    return seedMark\r\n",
        "img = np.array(Image.open(\"images/exemple0.png\").convert(\"L\"))\r\n",
        "seeds = [Point(10,10),Point(82,150),Point(20,100)]\r\n",
        "#modifier\r\n",
        "\r\n",
        "Img = regionGrow(img,seeds,thresh=10)\r\n",
        "plt.imshow(Img, cmap='gray')\r\n",
        "plt.show()"
      ],
      "execution_count": null,
      "outputs": [
        {
          "output_type": "error",
          "ename": "FileNotFoundError",
          "evalue": "ignored",
          "traceback": [
            "\u001b[0;31m---------------------------------------------------------------------------\u001b[0m",
            "\u001b[0;31mFileNotFoundError\u001b[0m                         Traceback (most recent call last)",
            "\u001b[0;32m<ipython-input-3-a29c8cd324ed>\u001b[0m in \u001b[0;36m<module>\u001b[0;34m()\u001b[0m\n\u001b[1;32m     42\u001b[0m                 \u001b[0mseedList\u001b[0m\u001b[0;34m.\u001b[0m\u001b[0mappend\u001b[0m\u001b[0;34m(\u001b[0m\u001b[0mPoint\u001b[0m\u001b[0;34m(\u001b[0m\u001b[0mXt\u001b[0m\u001b[0;34m,\u001b[0m\u001b[0mYT\u001b[0m\u001b[0;34m)\u001b[0m\u001b[0;34m)\u001b[0m\u001b[0;34m\u001b[0m\u001b[0;34m\u001b[0m\u001b[0m\n\u001b[1;32m     43\u001b[0m     \u001b[0;32mreturn\u001b[0m \u001b[0mseedMark\u001b[0m\u001b[0;34m\u001b[0m\u001b[0;34m\u001b[0m\u001b[0m\n\u001b[0;32m---> 44\u001b[0;31m \u001b[0mimg\u001b[0m \u001b[0;34m=\u001b[0m \u001b[0mnp\u001b[0m\u001b[0;34m.\u001b[0m\u001b[0marray\u001b[0m\u001b[0;34m(\u001b[0m\u001b[0mImage\u001b[0m\u001b[0;34m.\u001b[0m\u001b[0mopen\u001b[0m\u001b[0;34m(\u001b[0m\u001b[0;34m\"/content/image_test.jpg\"\u001b[0m\u001b[0;34m)\u001b[0m\u001b[0;34m.\u001b[0m\u001b[0mconvert\u001b[0m\u001b[0;34m(\u001b[0m\u001b[0;34m\"L\"\u001b[0m\u001b[0;34m)\u001b[0m\u001b[0;34m)\u001b[0m\u001b[0;34m\u001b[0m\u001b[0;34m\u001b[0m\u001b[0m\n\u001b[0m\u001b[1;32m     45\u001b[0m \u001b[0;31m#seeds = [Point(10,10),Point(82,150),Point(20,100)]\u001b[0m\u001b[0;34m\u001b[0m\u001b[0;34m\u001b[0m\u001b[0;34m\u001b[0m\u001b[0m\n\u001b[1;32m     46\u001b[0m \u001b[0;31m#modifier\u001b[0m\u001b[0;34m\u001b[0m\u001b[0;34m\u001b[0m\u001b[0;34m\u001b[0m\u001b[0m\n",
            "\u001b[0;32m/usr/local/lib/python3.6/dist-packages/PIL/Image.py\u001b[0m in \u001b[0;36mopen\u001b[0;34m(fp, mode)\u001b[0m\n\u001b[1;32m   2807\u001b[0m \u001b[0;34m\u001b[0m\u001b[0m\n\u001b[1;32m   2808\u001b[0m     \u001b[0;32mif\u001b[0m \u001b[0mfilename\u001b[0m\u001b[0;34m:\u001b[0m\u001b[0;34m\u001b[0m\u001b[0;34m\u001b[0m\u001b[0m\n\u001b[0;32m-> 2809\u001b[0;31m         \u001b[0mfp\u001b[0m \u001b[0;34m=\u001b[0m \u001b[0mbuiltins\u001b[0m\u001b[0;34m.\u001b[0m\u001b[0mopen\u001b[0m\u001b[0;34m(\u001b[0m\u001b[0mfilename\u001b[0m\u001b[0;34m,\u001b[0m \u001b[0;34m\"rb\"\u001b[0m\u001b[0;34m)\u001b[0m\u001b[0;34m\u001b[0m\u001b[0;34m\u001b[0m\u001b[0m\n\u001b[0m\u001b[1;32m   2810\u001b[0m         \u001b[0mexclusive_fp\u001b[0m \u001b[0;34m=\u001b[0m \u001b[0;32mTrue\u001b[0m\u001b[0;34m\u001b[0m\u001b[0;34m\u001b[0m\u001b[0m\n\u001b[1;32m   2811\u001b[0m \u001b[0;34m\u001b[0m\u001b[0m\n",
            "\u001b[0;31mFileNotFoundError\u001b[0m: [Errno 2] No such file or directory: '/content/image_test.jpg'"
          ]
        }
      ]
    },
    {
      "cell_type": "code",
      "metadata": {
        "id": "CnutaSg0q_nS"
      },
      "source": [
        "!apt-get -qq install -y libsm6 libxext6 && pip install -q -U opencv-python\r\n",
        "import cv2"
      ],
      "execution_count": null,
      "outputs": []
    }
  ]
}